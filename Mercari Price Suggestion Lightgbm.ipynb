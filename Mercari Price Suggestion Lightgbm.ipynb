{
 "cells": [
  {
   "cell_type": "code",
   "execution_count": 3,
   "metadata": {},
   "outputs": [],
   "source": [
    "import sys\n",
    "if sys.version_info >= (3, 5):\n",
    "    from importlib.util import spec_from_file_location\n",
    "import gc\n",
    "import time\n",
    "import numpy as np\n",
    "import pandas as pd\n",
    "import matplotlib.pyplot as plt\n",
    "import seaborn as sns\n",
    "from scipy.sparse import csr_matrix, hstack\n",
    "from sklearn.feature_extraction.text import CountVectorizer, TfidfVectorizer\n",
    "from sklearn.preprocessing import LabelBinarizer\n",
    "from sklearn.model_selection import train_test_split, cross_val_score\n",
    "from sklearn.metrics import mean_squared_error\n",
    "import lightgbm as lgb"
   ]
  },
  {
   "cell_type": "markdown",
   "metadata": {},
   "source": [
    "# The Data"
   ]
  },
  {
   "cell_type": "markdown",
   "metadata": {},
   "source": [
    "Split the dataset in to train and test. We are using training data only for EDA."
   ]
  },
  {
   "cell_type": "code",
   "execution_count": 4,
   "metadata": {
    "collapsed": true
   },
   "outputs": [],
   "source": [
    "df = pd.read_csv('train.tsv', sep = '\\t')"
   ]
  },
  {
   "cell_type": "code",
   "execution_count": 8,
   "metadata": {
    "collapsed": true
   },
   "outputs": [],
   "source": [
    "msk = np.arange(len(df)) <  len(df) * 0.8\n",
    "\n",
    "train = df[msk]\n",
    "test = df[~msk]"
   ]
  },
  {
   "cell_type": "code",
   "execution_count": 9,
   "metadata": {},
   "outputs": [
    {
     "data": {
      "text/plain": [
       "((800, 8), (200, 8))"
      ]
     },
     "execution_count": 9,
     "metadata": {},
     "output_type": "execute_result"
    }
   ],
   "source": [
    "train.shape, test.shape"
   ]
  },
  {
   "cell_type": "markdown",
   "metadata": {},
   "source": [
    "# EDA"
   ]
  },
  {
   "cell_type": "code",
   "execution_count": 10,
   "metadata": {},
   "outputs": [
    {
     "data": {
      "text/html": [
       "<div>\n",
       "<style scoped>\n",
       "    .dataframe tbody tr th:only-of-type {\n",
       "        vertical-align: middle;\n",
       "    }\n",
       "\n",
       "    .dataframe tbody tr th {\n",
       "        vertical-align: top;\n",
       "    }\n",
       "\n",
       "    .dataframe thead th {\n",
       "        text-align: right;\n",
       "    }\n",
       "</style>\n",
       "<table border=\"1\" class=\"dataframe\">\n",
       "  <thead>\n",
       "    <tr style=\"text-align: right;\">\n",
       "      <th></th>\n",
       "      <th>train_id</th>\n",
       "      <th>name</th>\n",
       "      <th>item_condition_id</th>\n",
       "      <th>category_name</th>\n",
       "      <th>brand_name</th>\n",
       "      <th>price</th>\n",
       "      <th>shipping</th>\n",
       "      <th>item_description</th>\n",
       "    </tr>\n",
       "  </thead>\n",
       "  <tbody>\n",
       "    <tr>\n",
       "      <th>0</th>\n",
       "      <td>0</td>\n",
       "      <td>MLB Cincinnati Reds T Shirt Size XL</td>\n",
       "      <td>3</td>\n",
       "      <td>Men/Tops/T-shirts</td>\n",
       "      <td>NaN</td>\n",
       "      <td>10.0</td>\n",
       "      <td>1</td>\n",
       "      <td>No description yet</td>\n",
       "    </tr>\n",
       "    <tr>\n",
       "      <th>1</th>\n",
       "      <td>1</td>\n",
       "      <td>Razer BlackWidow Chroma Keyboard</td>\n",
       "      <td>3</td>\n",
       "      <td>Electronics/Computers &amp; Tablets/Components &amp; P...</td>\n",
       "      <td>Razer</td>\n",
       "      <td>52.0</td>\n",
       "      <td>0</td>\n",
       "      <td>This keyboard is in great condition and works ...</td>\n",
       "    </tr>\n",
       "    <tr>\n",
       "      <th>2</th>\n",
       "      <td>2</td>\n",
       "      <td>AVA-VIV Blouse</td>\n",
       "      <td>1</td>\n",
       "      <td>Women/Tops &amp; Blouses/Blouse</td>\n",
       "      <td>Target</td>\n",
       "      <td>10.0</td>\n",
       "      <td>1</td>\n",
       "      <td>Adorable top with a hint of lace and a key hol...</td>\n",
       "    </tr>\n",
       "    <tr>\n",
       "      <th>3</th>\n",
       "      <td>3</td>\n",
       "      <td>Leather Horse Statues</td>\n",
       "      <td>1</td>\n",
       "      <td>Home/Home Décor/Home Décor Accents</td>\n",
       "      <td>NaN</td>\n",
       "      <td>35.0</td>\n",
       "      <td>1</td>\n",
       "      <td>New with tags. Leather horses. Retail for [rm]...</td>\n",
       "    </tr>\n",
       "    <tr>\n",
       "      <th>4</th>\n",
       "      <td>4</td>\n",
       "      <td>24K GOLD plated rose</td>\n",
       "      <td>1</td>\n",
       "      <td>Women/Jewelry/Necklaces</td>\n",
       "      <td>NaN</td>\n",
       "      <td>44.0</td>\n",
       "      <td>0</td>\n",
       "      <td>Complete with certificate of authenticity</td>\n",
       "    </tr>\n",
       "  </tbody>\n",
       "</table>\n",
       "</div>"
      ],
      "text/plain": [
       "   train_id                                 name  item_condition_id  \\\n",
       "0         0  MLB Cincinnati Reds T Shirt Size XL                  3   \n",
       "1         1     Razer BlackWidow Chroma Keyboard                  3   \n",
       "2         2                       AVA-VIV Blouse                  1   \n",
       "3         3                Leather Horse Statues                  1   \n",
       "4         4                 24K GOLD plated rose                  1   \n",
       "\n",
       "                                       category_name brand_name  price  \\\n",
       "0                                  Men/Tops/T-shirts        NaN   10.0   \n",
       "1  Electronics/Computers & Tablets/Components & P...      Razer   52.0   \n",
       "2                        Women/Tops & Blouses/Blouse     Target   10.0   \n",
       "3                 Home/Home Décor/Home Décor Accents        NaN   35.0   \n",
       "4                            Women/Jewelry/Necklaces        NaN   44.0   \n",
       "\n",
       "   shipping                                   item_description  \n",
       "0         1                                 No description yet  \n",
       "1         0  This keyboard is in great condition and works ...  \n",
       "2         1  Adorable top with a hint of lace and a key hol...  \n",
       "3         1  New with tags. Leather horses. Retail for [rm]...  \n",
       "4         0          Complete with certificate of authenticity  "
      ]
     },
     "execution_count": 10,
     "metadata": {},
     "output_type": "execute_result"
    }
   ],
   "source": [
    "train.head()"
   ]
  },
  {
   "cell_type": "code",
   "execution_count": 11,
   "metadata": {},
   "outputs": [
    {
     "name": "stdout",
     "output_type": "stream",
     "text": [
      "<class 'pandas.core.frame.DataFrame'>\n",
      "Int64Index: 800 entries, 0 to 799\n",
      "Data columns (total 8 columns):\n",
      "train_id             800 non-null int64\n",
      "name                 800 non-null object\n",
      "item_condition_id    800 non-null int64\n",
      "category_name        797 non-null object\n",
      "brand_name           462 non-null object\n",
      "price                800 non-null float64\n",
      "shipping             800 non-null int64\n",
      "item_description     800 non-null object\n",
      "dtypes: float64(1), int64(3), object(4)\n",
      "memory usage: 56.2+ KB\n"
     ]
    }
   ],
   "source": [
    "train.info()"
   ]
  },
  {
   "cell_type": "markdown",
   "metadata": {},
   "source": [
    "## Price"
   ]
  },
  {
   "cell_type": "code",
   "execution_count": 12,
   "metadata": {},
   "outputs": [
    {
     "data": {
      "text/plain": [
       "count    800.00000\n",
       "mean      27.20500\n",
       "std       43.76528\n",
       "min        3.00000\n",
       "25%       10.00000\n",
       "50%       16.00000\n",
       "75%       29.25000\n",
       "max      650.00000\n",
       "Name: price, dtype: float64"
      ]
     },
     "execution_count": 12,
     "metadata": {},
     "output_type": "execute_result"
    }
   ],
   "source": [
    "train.price.describe()"
   ]
  },
  {
   "cell_type": "code",
   "execution_count": 16,
   "metadata": {},
   "outputs": [
    {
     "data": {
      "image/png": "[encoded data removed]",
      "text/plain": [
       "<matplotlib.figure.Figure at 0x1a179b5978>"
      ]
     },
     "metadata": {},
     "output_type": "display_data"
    }
   ],
   "source": [
    "plt.subplot(1, 2, 1)\n",
    "(train['price']).plot.hist(bins=50, figsize=(12, 6), edgecolor = 'white', range = [0, 250])\n",
    "plt.xlabel('price', fontsize=12)\n",
    "plt.title('Price Distribution', fontsize=12)\n",
    "\n",
    "plt.subplot(1, 2, 2)\n",
    "np.log(train['price']+1).plot.hist(bins=50, figsize=(12,6), edgecolor='white')\n",
    "plt.xlabel('log(price+1)', fontsize=12)\n",
    "plt.title('Price Distribution', fontsize=12)\n",
    "plt.show()"
   ]
  },
  {
   "cell_type": "markdown",
   "metadata": {},
   "source": [
    "The price of items are left skewed, vast majority of items priced at 10-20. However, the most expensive item priced at 2009. So we make log-transformation on the price."
   ]
  },
  {
   "cell_type": "markdown",
   "metadata": {},
   "source": [
    "## Shipping"
   ]
  },
  {
   "cell_type": "code",
   "execution_count": 14,
   "metadata": {},
   "outputs": [
    {
     "data": {
      "text/plain": [
       "0    0.53625\n",
       "1    0.46375\n",
       "Name: shipping, dtype: float64"
      ]
     },
     "execution_count": 14,
     "metadata": {},
     "output_type": "execute_result"
    }
   ],
   "source": [
    "train['shipping'].value_counts() / len(train)"
   ]
  },
  {
   "cell_type": "markdown",
   "metadata": {},
   "source": [
    "Over 55% of items shipping fee were paid by the buyers. How shipping related to price?"
   ]
  },
  {
   "cell_type": "code",
   "execution_count": 15,
   "metadata": {},
   "outputs": [
    {
     "data": {
      "image/png": "[encoded data removed]",
      "text/plain": [
       "<matplotlib.figure.Figure at 0x1a12922b38>"
      ]
     },
     "metadata": {},
     "output_type": "display_data"
    },
    {
     "data": {
      "image/png": "[encoded data removed]",
      "text/plain": [
       "<matplotlib.figure.Figure at 0x1a17b0d470>"
      ]
     },
     "metadata": {},
     "output_type": "display_data"
    }
   ],
   "source": [
    "shipping_fee_by_buyer = train.loc[df['shipping'] == 0, 'price']\n",
    "shipping_fee_by_seller = train.loc[df['shipping'] == 1, 'price']\n",
    "\n",
    "fig, ax = plt.subplots(figsize=(18,8))\n",
    "ax.hist(shipping_fee_by_seller, color='#8CB4E1', alpha=1.0, bins=50, range = [0, 100],\n",
    "       label='Price when Seller pays Shipping')\n",
    "ax.hist(shipping_fee_by_buyer, color='#007D00', alpha=0.7, bins=50, range = [0, 100],\n",
    "       label='Price when Buyer pays Shipping')\n",
    "plt.xlabel('price', fontsize=12)\n",
    "plt.ylabel('frequency', fontsize=12)\n",
    "plt.title('Price Distribution by Shipping Type', fontsize=15)\n",
    "plt.tick_params(labelsize=12)\n",
    "plt.legend()\n",
    "plt.show()"
   ]
  },
  {
   "cell_type": "code",
   "execution_count": 17,
   "metadata": {},
   "outputs": [
    {
     "name": "stdout",
     "output_type": "stream",
     "text": [
      "The average price is 23.65 if seller pays shipping\n",
      "The average price is 30.28 if buyer pays shipping\n"
     ]
    }
   ],
   "source": [
    "print('The average price is {}'.format(round(shipping_fee_by_seller.mean(), 2)), 'if seller pays shipping');\n",
    "print('The average price is {}'.format(round(shipping_fee_by_buyer.mean(), 2)), 'if buyer pays shipping')"
   ]
  },
  {
   "cell_type": "markdown",
   "metadata": {},
   "source": [
    "We compare again after log-transformation on the price."
   ]
  },
  {
   "cell_type": "code",
   "execution_count": 18,
   "metadata": {},
   "outputs": [
    {
     "data": {
      "image/png": "[encoded data removed]",
      "text/plain": [
       "<matplotlib.figure.Figure at 0x1a1a97bcc0>"
      ]
     },
     "metadata": {},
     "output_type": "display_data"
    }
   ],
   "source": [
    "fig, ax = plt.subplots(figsize=(18,8))\n",
    "ax.hist(np.log(shipping_fee_by_seller+1), color='#8CB4E1', alpha=1.0, bins=50,\n",
    "       label='Price when Seller pays Shipping')\n",
    "ax.hist(np.log(shipping_fee_by_buyer+1), color='#007D00', alpha=0.7, bins=50,\n",
    "       label='Price when Buyer pays Shipping')\n",
    "plt.xlabel('log(price+1)', fontsize=12)\n",
    "plt.ylabel('frequency', fontsize=12)\n",
    "plt.title('Price Distribution by Shipping Type', fontsize=15)\n",
    "plt.tick_params(labelsize=12)\n",
    "plt.legend()\n",
    "plt.show()"
   ]
  },
  {
   "cell_type": "markdown",
   "metadata": {},
   "source": [
    "It is obvious that the average price is higher when buyer pays shipping."
   ]
  },
  {
   "cell_type": "markdown",
   "metadata": {},
   "source": [
    "## Category Names"
   ]
  },
  {
   "cell_type": "markdown",
   "metadata": {},
   "source": [
    "### Category names"
   ]
  },
  {
   "cell_type": "code",
   "execution_count": 19,
   "metadata": {},
   "outputs": [
    {
     "name": "stdout",
     "output_type": "stream",
     "text": [
      "There are 249 unique values in category name column\n"
     ]
    }
   ],
   "source": [
    "print('There are', train['category_name'].nunique(), 'unique values in category name column')"
   ]
  },
  {
   "cell_type": "markdown",
   "metadata": {},
   "source": [
    "Top 10 most common category names"
   ]
  },
  {
   "cell_type": "code",
   "execution_count": 20,
   "metadata": {},
   "outputs": [
    {
     "data": {
      "text/plain": [
       "Women/Athletic Apparel/Pants, Tights, Leggings    34\n",
       "Beauty/Makeup/Eyes                                24\n",
       "Women/Tops & Blouses/T-Shirts                     23\n",
       "Beauty/Makeup/Lips                                21\n",
       "Beauty/Makeup/Face                                19\n",
       "Beauty/Fragrance/Women                            17\n",
       "Women/Tops & Blouses/Blouse                       16\n",
       "Women/Jewelry/Necklaces                           14\n",
       "Women/Shoes/Boots                                 13\n",
       "Men/Shoes/Athletic                                13\n",
       "Name: category_name, dtype: int64"
      ]
     },
     "execution_count": 20,
     "metadata": {},
     "output_type": "execute_result"
    }
   ],
   "source": [
    "train['category_name'].value_counts()[:10]"
   ]
  },
  {
   "cell_type": "markdown",
   "metadata": {},
   "source": [
    "### Item condition vs. Price"
   ]
  },
  {
   "cell_type": "code",
   "execution_count": 21,
   "metadata": {},
   "outputs": [
    {
     "name": "stderr",
     "output_type": "stream",
     "text": [
      "/Users/l_zhang/.pyenv/versions/anaconda3-5.0.1/lib/python3.6/site-packages/seaborn/categorical.py:462: FutureWarning: remove_na is deprecated and is a private function. Do not use.\n",
      "  box_data = remove_na(group_data)\n",
      "/Users/l_zhang/.pyenv/versions/anaconda3-5.0.1/lib/python3.6/site-packages/seaborn/categorical.py:462: FutureWarning: remove_na is deprecated and is a private function. Do not use.\n",
      "  box_data = remove_na(group_data)\n",
      "/Users/l_zhang/.pyenv/versions/anaconda3-5.0.1/lib/python3.6/site-packages/seaborn/categorical.py:462: FutureWarning: remove_na is deprecated and is a private function. Do not use.\n",
      "  box_data = remove_na(group_data)\n",
      "/Users/l_zhang/.pyenv/versions/anaconda3-5.0.1/lib/python3.6/site-packages/seaborn/categorical.py:462: FutureWarning: remove_na is deprecated and is a private function. Do not use.\n",
      "  box_data = remove_na(group_data)\n",
      "/Users/l_zhang/.pyenv/versions/anaconda3-5.0.1/lib/python3.6/site-packages/seaborn/categorical.py:462: FutureWarning: remove_na is deprecated and is a private function. Do not use.\n",
      "  box_data = remove_na(group_data)\n"
     ]
    },
    {
     "data": {
      "text/plain": [
       "<matplotlib.axes._subplots.AxesSubplot at 0x1a1ac2d438>"
      ]
     },
     "execution_count": 21,
     "metadata": {},
     "output_type": "execute_result"
    }
   ],
   "source": [
    "sns.boxplot(x = 'item_condition_id', y = np.log(train['price']+1), data = train, palette = sns.color_palette('RdBu',5))\n"
   ]
  },
  {
   "cell_type": "code",
   "execution_count": 22,
   "metadata": {},
   "outputs": [
    {
     "data": {
      "text/plain": [
       "{1, 2, 3, 4, 5}"
      ]
     },
     "execution_count": 22,
     "metadata": {},
     "output_type": "execute_result"
    }
   ],
   "source": [
    "set(train['item_condition_id'].values)\n"
   ]
  },
  {
   "cell_type": "markdown",
   "metadata": {},
   "source": [
    "There seems to be various on the average price between each item condition id."
   ]
  },
  {
   "cell_type": "markdown",
   "metadata": {},
   "source": [
    "Therefore, we are going to use all the features to build our model."
   ]
  },
  {
   "cell_type": "markdown",
   "metadata": {},
   "source": [
    "# LightGBM"
   ]
  },
  {
   "cell_type": "markdown",
   "metadata": {},
   "source": [
    "## Settings"
   ]
  },
  {
   "cell_type": "code",
   "execution_count": 23,
   "metadata": {
    "collapsed": true
   },
   "outputs": [],
   "source": [
    "NUM_BRANDS = 4000\n",
    "NUM_CATEGORIES = 1000\n",
    "NAME_MIN_DF = 10\n",
    "MAX_FEATURES_ITEM_DESCRIPTION = 50000"
   ]
  },
  {
   "cell_type": "markdown",
   "metadata": {},
   "source": [
    "There are missing values in the columns."
   ]
  },
  {
   "cell_type": "code",
   "execution_count": 24,
   "metadata": {},
   "outputs": [
    {
     "name": "stdout",
     "output_type": "stream",
     "text": [
      "There are 3 items that do not have a category name.\n"
     ]
    }
   ],
   "source": [
    "print('There are %d items that do not have a category name.' %train['category_name'].isnull().sum())"
   ]
  },
  {
   "cell_type": "code",
   "execution_count": 25,
   "metadata": {},
   "outputs": [
    {
     "name": "stdout",
     "output_type": "stream",
     "text": [
      "There are 338 items that do not have a brand name.\n"
     ]
    }
   ],
   "source": [
    "print('There are %d items that do not have a brand name.' %train['brand_name'].isnull().sum())"
   ]
  },
  {
   "cell_type": "code",
   "execution_count": 26,
   "metadata": {},
   "outputs": [
    {
     "name": "stdout",
     "output_type": "stream",
     "text": [
      "There are 0 items that do not have a description.\n"
     ]
    }
   ],
   "source": [
    "print('There are %d items that do not have a description.' %train['item_description'].isnull().sum())"
   ]
  },
  {
   "cell_type": "code",
   "execution_count": 27,
   "metadata": {
    "collapsed": true
   },
   "outputs": [],
   "source": [
    "def handle_missing_inplace(dataset): \n",
    "    dataset['category_name'].fillna(value='missing', inplace=True) \n",
    "    dataset['brand_name'].fillna(value='missing', inplace=True) \n",
    "    dataset['item_description'].replace('No description yet,''missing', inplace=True) \n",
    "    dataset['item_description'].fillna(value='missing', inplace=True)"
   ]
  },
  {
   "cell_type": "code",
   "execution_count": 31,
   "metadata": {},
   "outputs": [],
   "source": [
    "def cutting(dataset):\n",
    "    pop_brand = dataset['brand_name'].value_counts().loc[lambda x: x.index != 'missing'].index[:NUM_BRANDS]\n",
    "    dataset.loc[~dataset['brand_name'].isin(pop_brand), 'brand_name'] = 'missing'\n",
    "    pop_category = dataset['category_name'].value_counts().loc[lambda x: x.index != 'missing'].index[:NUM_CATEGORIES]\n",
    "    dataset.loc[~dataset['category_name'].isin(pop_category), 'category_name'] = 'missing'"
   ]
  },
  {
   "cell_type": "code",
   "execution_count": 32,
   "metadata": {
    "collapsed": true
   },
   "outputs": [],
   "source": [
    "def to_categorical(dataset):\n",
    "    dataset['category_name'] = dataset['category_name'].astype('category')\n",
    "    dataset['brand_name'] = dataset['brand_name'].astype('category')\n",
    "    dataset['item_condition_id'] = dataset['item_condition_id'].astype('category')"
   ]
  },
  {
   "cell_type": "code",
   "execution_count": 33,
   "metadata": {
    "collapsed": true
   },
   "outputs": [],
   "source": [
    "df = pd.read_csv('train.tsv', sep = '\\t')\n",
    "msk = np.arange(len(df)) <  len(df) * 0.8\n",
    "\n",
    "train = df[msk]\n",
    "test = df[~msk]\n",
    "test_new = test.drop('price', axis=1)\n",
    "y_test = np.log1p(test[\"price\"])"
   ]
  },
  {
   "cell_type": "markdown",
   "metadata": {},
   "source": [
    "Drop rows where price = 0"
   ]
  },
  {
   "cell_type": "code",
   "execution_count": 34,
   "metadata": {
    "collapsed": true
   },
   "outputs": [],
   "source": [
    "train = train[train.price != 0].reset_index(drop=True)"
   ]
  },
  {
   "cell_type": "code",
   "execution_count": 35,
   "metadata": {
    "collapsed": true
   },
   "outputs": [],
   "source": [
    "nrow_train = train.shape[0]\n",
    "y = np.log1p(train[\"price\"])\n",
    "merge = pd.concat([train, test_new], sort=False)"
   ]
  },
  {
   "cell_type": "code",
   "execution_count": 36,
   "metadata": {
    "collapsed": true
   },
   "outputs": [],
   "source": [
    "handle_missing_inplace(merge)\n",
    "cutting(merge)\n",
    "to_categorical(merge)"
   ]
  },
  {
   "cell_type": "code",
   "execution_count": 37,
   "metadata": {},
   "outputs": [
    {
     "data": {
      "text/html": [
       "<div>\n",
       "<style scoped>\n",
       "    .dataframe tbody tr th:only-of-type {\n",
       "        vertical-align: middle;\n",
       "    }\n",
       "\n",
       "    .dataframe tbody tr th {\n",
       "        vertical-align: top;\n",
       "    }\n",
       "\n",
       "    .dataframe thead th {\n",
       "        text-align: right;\n",
       "    }\n",
       "</style>\n",
       "<table border=\"1\" class=\"dataframe\">\n",
       "  <thead>\n",
       "    <tr style=\"text-align: right;\">\n",
       "      <th></th>\n",
       "      <th>train_id</th>\n",
       "      <th>name</th>\n",
       "      <th>item_condition_id</th>\n",
       "      <th>category_name</th>\n",
       "      <th>brand_name</th>\n",
       "      <th>price</th>\n",
       "      <th>shipping</th>\n",
       "      <th>item_description</th>\n",
       "    </tr>\n",
       "  </thead>\n",
       "  <tbody>\n",
       "    <tr>\n",
       "      <th>0</th>\n",
       "      <td>0</td>\n",
       "      <td>MLB Cincinnati Reds T Shirt Size XL</td>\n",
       "      <td>3</td>\n",
       "      <td>Men/Tops/T-shirts</td>\n",
       "      <td>missing</td>\n",
       "      <td>10.0</td>\n",
       "      <td>1</td>\n",
       "      <td>No description yet</td>\n",
       "    </tr>\n",
       "    <tr>\n",
       "      <th>1</th>\n",
       "      <td>1</td>\n",
       "      <td>Razer BlackWidow Chroma Keyboard</td>\n",
       "      <td>3</td>\n",
       "      <td>Electronics/Computers &amp; Tablets/Components &amp; P...</td>\n",
       "      <td>Razer</td>\n",
       "      <td>52.0</td>\n",
       "      <td>0</td>\n",
       "      <td>This keyboard is in great condition and works ...</td>\n",
       "    </tr>\n",
       "    <tr>\n",
       "      <th>2</th>\n",
       "      <td>2</td>\n",
       "      <td>AVA-VIV Blouse</td>\n",
       "      <td>1</td>\n",
       "      <td>Women/Tops &amp; Blouses/Blouse</td>\n",
       "      <td>Target</td>\n",
       "      <td>10.0</td>\n",
       "      <td>1</td>\n",
       "      <td>Adorable top with a hint of lace and a key hol...</td>\n",
       "    </tr>\n",
       "    <tr>\n",
       "      <th>3</th>\n",
       "      <td>3</td>\n",
       "      <td>Leather Horse Statues</td>\n",
       "      <td>1</td>\n",
       "      <td>Home/Home Décor/Home Décor Accents</td>\n",
       "      <td>missing</td>\n",
       "      <td>35.0</td>\n",
       "      <td>1</td>\n",
       "      <td>New with tags. Leather horses. Retail for [rm]...</td>\n",
       "    </tr>\n",
       "    <tr>\n",
       "      <th>4</th>\n",
       "      <td>4</td>\n",
       "      <td>24K GOLD plated rose</td>\n",
       "      <td>1</td>\n",
       "      <td>Women/Jewelry/Necklaces</td>\n",
       "      <td>missing</td>\n",
       "      <td>44.0</td>\n",
       "      <td>0</td>\n",
       "      <td>Complete with certificate of authenticity</td>\n",
       "    </tr>\n",
       "  </tbody>\n",
       "</table>\n",
       "</div>"
      ],
      "text/plain": [
       "   train_id                                 name item_condition_id  \\\n",
       "0         0  MLB Cincinnati Reds T Shirt Size XL                 3   \n",
       "1         1     Razer BlackWidow Chroma Keyboard                 3   \n",
       "2         2                       AVA-VIV Blouse                 1   \n",
       "3         3                Leather Horse Statues                 1   \n",
       "4         4                 24K GOLD plated rose                 1   \n",
       "\n",
       "                                       category_name brand_name  price  \\\n",
       "0                                  Men/Tops/T-shirts    missing   10.0   \n",
       "1  Electronics/Computers & Tablets/Components & P...      Razer   52.0   \n",
       "2                        Women/Tops & Blouses/Blouse     Target   10.0   \n",
       "3                 Home/Home Décor/Home Décor Accents    missing   35.0   \n",
       "4                            Women/Jewelry/Necklaces    missing   44.0   \n",
       "\n",
       "   shipping                                   item_description  \n",
       "0         1                                 No description yet  \n",
       "1         0  This keyboard is in great condition and works ...  \n",
       "2         1  Adorable top with a hint of lace and a key hol...  \n",
       "3         1  New with tags. Leather horses. Retail for [rm]...  \n",
       "4         0          Complete with certificate of authenticity  "
      ]
     },
     "execution_count": 37,
     "metadata": {},
     "output_type": "execute_result"
    }
   ],
   "source": [
    "merge.head()"
   ]
  },
  {
   "cell_type": "markdown",
   "metadata": {},
   "source": [
    "Count vectorize name and category name columns."
   ]
  },
  {
   "cell_type": "code",
   "execution_count": 38,
   "metadata": {},
   "outputs": [
    {
     "name": "stdout",
     "output_type": "stream",
     "text": [
      "name 0    MLB Cincinnati Reds T Shirt Size XL\n",
      "Name: name, dtype: object\n",
      "type name <class 'pandas.core.series.Series'>\n",
      "X_name.shape (1000, 61)\n",
      "X_name[0]   (0, 48)\t1\n",
      "  (0, 45)\t1\n",
      "X_name_array.shape (1000, 61)\n",
      "X_name0:   (0, 45)\t1\n",
      "  (0, 48)\t1\n"
     ]
    }
   ],
   "source": [
    "cv = CountVectorizer(min_df=NAME_MIN_DF)\n",
    "X_name = cv.fit_transform(merge['name'])\n",
    "\n",
    "# print(\"merge namew:\\n\", merge['name'])\n",
    "\n",
    "name = merge['name'].iloc[0:1]\n",
    "print(\"name\", name)\n",
    "print(\"type name\", type(name))\n",
    "\n",
    "print(\"X_name.shape\", X_name.shape)\n",
    "print(\"X_name[0]\", X_name[0])\n",
    "\n",
    "X_name_array = X_name.toarray()\n",
    "#print(\"x_name_array\", X_name_array)\n",
    "print(\"X_name_array.shape\", X_name_array.shape)\n",
    "#print(\"X_name_array[0]\", X_name_array[0])\n",
    "\n",
    "\n",
    "X_name0 = cv.transform(name)\n",
    "print(\"X_name0:\", X_name0)\n"
   ]
  },
  {
   "cell_type": "code",
   "execution_count": 39,
   "metadata": {},
   "outputs": [
    {
     "name": "stdout",
     "output_type": "stream",
     "text": [
      "X_category.shape: (1000, 348)\n",
      "X_category[0]:   (0, 271)\t1\n",
      "  (0, 321)\t1\n",
      "  (0, 199)\t1\n",
      "0    Men/Tops/T-shirts\n",
      "Name: category_name, dtype: category\n",
      "Categories (276, object): [Beauty/Bath & Body/Bath, Beauty/Fragrance/Candles & Home Scents, Beauty/Fragrance/Women, Beauty/Hair Care/Conditioners, ..., Women/Women's Handbags/Other, Women/Women's Handbags/Shoulder Bag, Women/Women's Handbags/Totes & Shoppers, missing]\n",
      "X_cat0   (0, 199)\t1\n",
      "  (0, 271)\t1\n",
      "  (0, 321)\t1\n",
      "X_cat0.toarray [[0 0 0 0 0 0 0 0 0 0 0 0 0 0 0 0 0 0 0 0 0 0 0 0 0 0 0 0 0 0 0 0 0 0 0 0 0\n",
      "  0 0 0 0 0 0 0 0 0 0 0 0 0 0 0 0 0 0 0 0 0 0 0 0 0 0 0 0 0 0 0 0 0 0 0 0 0\n",
      "  0 0 0 0 0 0 0 0 0 0 0 0 0 0 0 0 0 0 0 0 0 0 0 0 0 0 0 0 0 0 0 0 0 0 0 0 0\n",
      "  0 0 0 0 0 0 0 0 0 0 0 0 0 0 0 0 0 0 0 0 0 0 0 0 0 0 0 0 0 0 0 0 0 0 0 0 0\n",
      "  0 0 0 0 0 0 0 0 0 0 0 0 0 0 0 0 0 0 0 0 0 0 0 0 0 0 0 0 0 0 0 0 0 0 0 0 0\n",
      "  0 0 0 0 0 0 0 0 0 0 0 0 0 0 1 0 0 0 0 0 0 0 0 0 0 0 0 0 0 0 0 0 0 0 0 0 0\n",
      "  0 0 0 0 0 0 0 0 0 0 0 0 0 0 0 0 0 0 0 0 0 0 0 0 0 0 0 0 0 0 0 0 0 0 0 0 0\n",
      "  0 0 0 0 0 0 0 0 0 0 0 0 1 0 0 0 0 0 0 0 0 0 0 0 0 0 0 0 0 0 0 0 0 0 0 0 0\n",
      "  0 0 0 0 0 0 0 0 0 0 0 0 0 0 0 0 0 0 0 0 0 0 0 0 0 1 0 0 0 0 0 0 0 0 0 0 0\n",
      "  0 0 0 0 0 0 0 0 0 0 0 0 0 0 0]]\n"
     ]
    }
   ],
   "source": [
    "cv = CountVectorizer()\n",
    "X_category = cv.fit_transform(merge['category_name'])\n",
    "\n",
    "print(\"X_category.shape:\", X_category.shape)\n",
    "\n",
    "print(\"X_category[0]:\", X_category[0])\n",
    "\n",
    "ser_cat0 = merge['category_name'].iloc[0:1]\n",
    "print(ser_cat0)\n",
    "\n",
    "X_cat0 = cv.transform(ser_cat0)\n",
    "\n",
    "print(\"X_cat0\",X_cat0)\n",
    "print(\"X_cat0.toarray\",X_cat0.toarray())\n"
   ]
  },
  {
   "cell_type": "markdown",
   "metadata": {},
   "source": [
    "TFIDF Vectorize item_description column."
   ]
  },
  {
   "cell_type": "code",
   "execution_count": 40,
   "metadata": {},
   "outputs": [
    {
     "name": "stdout",
     "output_type": "stream",
     "text": [
      "item_description 0\n",
      "1    This keyboard is in great condition and works ...\n",
      "Name: item_description, dtype: object\n",
      "X_description.shape (1000, 29162)\n",
      "X_description[0]   (0, 13184)\t0.154384951068\n",
      "  (0, 10856)\t0.0713351137795\n",
      "  (0, 6079)\t0.0613065183586\n",
      "  (0, 28622)\t0.109893274342\n",
      "  (0, 14080)\t0.0757269182444\n",
      "  (0, 4498)\t0.130879071333\n",
      "  (0, 3470)\t0.0786226781762\n",
      "  (0, 19425)\t0.145709630241\n",
      "  (0, 26053)\t0.139554392159\n",
      "  (0, 28589)\t0.117910205566\n",
      "  (0, 18525)\t0.134780018584\n",
      "  (0, 14064)\t0.145709630241\n",
      "  (0, 6866)\t0.154384951068\n",
      "  (0, 20524)\t0.154384951068\n",
      "  (0, 25588)\t0.154384951068\n",
      "  (0, 1576)\t0.139554392159\n",
      "  (0, 18322)\t0.145709630241\n",
      "  (0, 13185)\t0.154384951068\n",
      "  (0, 10873)\t0.0868378527992\n",
      "  (0, 6274)\t0.154384951068\n",
      "  (0, 28639)\t0.154384951068\n",
      "  (0, 14091)\t0.154384951068\n",
      "  (0, 4499)\t0.154384951068\n",
      "  (0, 3539)\t0.154384951068\n",
      "  (0, 19428)\t0.154384951068\n",
      "  (0, 26056)\t0.145709630241\n",
      "  (0, 28600)\t0.154384951068\n",
      "  (0, 18532)\t0.154384951068\n",
      "  (0, 14065)\t0.154384951068\n",
      "  (0, 6867)\t0.154384951068\n",
      "  (0, 20525)\t0.154384951068\n",
      "  (0, 25589)\t0.154384951068\n",
      "  (0, 1579)\t0.154384951068\n",
      "  (0, 13186)\t0.154384951068\n",
      "  (0, 10901)\t0.154384951068\n",
      "  (0, 6275)\t0.154384951068\n",
      "  (0, 28640)\t0.154384951068\n",
      "  (0, 14092)\t0.154384951068\n",
      "  (0, 4500)\t0.154384951068\n",
      "  (0, 3540)\t0.154384951068\n",
      "  (0, 19429)\t0.154384951068\n",
      "  (0, 26058)\t0.154384951068\n",
      "  (0, 28601)\t0.154384951068\n",
      "  (0, 18533)\t0.154384951068\n",
      "  (0, 14066)\t0.154384951068\n",
      "  (0, 6868)\t0.154384951068\n",
      "  (0, 20526)\t0.154384951068\n",
      "  (0, 25590)\t0.154384951068\n",
      "X_desc0.shape (1, 29162)\n",
      "X_desc0   (0, 28640)\t0.154384951068\n",
      "  (0, 28639)\t0.154384951068\n",
      "  (0, 28622)\t0.109893274342\n",
      "  (0, 28601)\t0.154384951068\n",
      "  (0, 28600)\t0.154384951068\n",
      "  (0, 28589)\t0.117910205566\n",
      "  (0, 26058)\t0.154384951068\n",
      "  (0, 26056)\t0.145709630241\n",
      "  (0, 26053)\t0.139554392159\n",
      "  (0, 25590)\t0.154384951068\n",
      "  (0, 25589)\t0.154384951068\n",
      "  (0, 25588)\t0.154384951068\n",
      "  (0, 20526)\t0.154384951068\n",
      "  (0, 20525)\t0.154384951068\n",
      "  (0, 20524)\t0.154384951068\n",
      "  (0, 19429)\t0.154384951068\n",
      "  (0, 19428)\t0.154384951068\n",
      "  (0, 19425)\t0.145709630241\n",
      "  (0, 18533)\t0.154384951068\n",
      "  (0, 18532)\t0.154384951068\n",
      "  (0, 18525)\t0.134780018584\n",
      "  (0, 18322)\t0.145709630241\n",
      "  (0, 14092)\t0.154384951068\n",
      "  (0, 14091)\t0.154384951068\n",
      "  (0, 14080)\t0.0757269182444\n",
      "  (0, 14066)\t0.154384951068\n",
      "  (0, 14065)\t0.154384951068\n",
      "  (0, 14064)\t0.145709630241\n",
      "  (0, 13186)\t0.154384951068\n",
      "  (0, 13185)\t0.154384951068\n",
      "  (0, 13184)\t0.154384951068\n",
      "  (0, 10901)\t0.154384951068\n",
      "  (0, 10873)\t0.0868378527992\n",
      "  (0, 10856)\t0.0713351137795\n",
      "  (0, 6868)\t0.154384951068\n",
      "  (0, 6867)\t0.154384951068\n",
      "  (0, 6866)\t0.154384951068\n",
      "  (0, 6275)\t0.154384951068\n",
      "  (0, 6274)\t0.154384951068\n",
      "  (0, 6079)\t0.0613065183586\n",
      "  (0, 4500)\t0.154384951068\n",
      "  (0, 4499)\t0.154384951068\n",
      "  (0, 4498)\t0.130879071333\n",
      "  (0, 3540)\t0.154384951068\n",
      "  (0, 3539)\t0.154384951068\n",
      "  (0, 3470)\t0.0786226781762\n",
      "  (0, 1579)\t0.154384951068\n",
      "  (0, 1576)\t0.139554392159\n"
     ]
    },
    {
     "data": {
      "text/plain": [
       "True"
      ]
     },
     "execution_count": 40,
     "metadata": {},
     "output_type": "execute_result"
    }
   ],
   "source": [
    "tv = TfidfVectorizer(max_features=MAX_FEATURES_ITEM_DESCRIPTION, ngram_range=(1, 3), stop_words='english')\n",
    "X_description = tv.fit_transform(merge['item_description'])\n",
    "\n",
    "print(\"item_description 0\")\n",
    "ser_desc0 = merge['item_description'].iloc[1:2]\n",
    "print(ser_desc0)\n",
    "\n",
    "print(\"X_description.shape\", X_description.shape)\n",
    "print(\"X_description[0]\", X_description[1])\n",
    "\n",
    "\n",
    "X_desc0 = tv.transform(ser_desc0)\n",
    "\n",
    "print(\"X_desc0.shape\", X_desc0.shape)\n",
    "print(\"X_desc0\", X_desc0)\n",
    "\n",
    "# 2 array is equal\n",
    "(X_description[1] != X_desc0).nnz == 0"
   ]
  },
  {
   "cell_type": "markdown",
   "metadata": {},
   "source": [
    "Label binarize brand_name column."
   ]
  },
  {
   "cell_type": "code",
   "execution_count": 41,
   "metadata": {},
   "outputs": [
    {
     "name": "stdout",
     "output_type": "stream",
     "text": [
      "ser_brand0\n",
      "1    Razer\n",
      "Name: brand_name, dtype: category\n",
      "Categories (230, object): [ALEX AND ANI, ASICS, ASUS, Acacia Swimwear, ..., missing, patagonia, rue, vineyard vines]\n",
      "X_brand.shape (1000, 230)\n",
      "X_brand[0]   (0, 170)\t1\n",
      "X_brand0   (0, 170)\t1\n"
     ]
    }
   ],
   "source": [
    "lb = LabelBinarizer(sparse_output=True)\n",
    "X_brand = lb.fit_transform(merge['brand_name'])\n",
    "\n",
    "\n",
    "ser_brand0 = merge['brand_name'].iloc[1:2]\n",
    "\n",
    "print(\"ser_brand0\")\n",
    "print(ser_brand0)\n",
    "\n",
    "print(\"X_brand.shape\", X_brand.shape)\n",
    "print(\"X_brand[0]\", X_brand[1])\n",
    "\n",
    "X_brand0 = lb.transform(ser_brand0)\n",
    "print(\"X_brand0\", X_brand0)\n",
    "\n"
   ]
  },
  {
   "cell_type": "markdown",
   "metadata": {},
   "source": [
    "Create dummy variables for item_condition_id and shipping columns."
   ]
  },
  {
   "cell_type": "code",
   "execution_count": 43,
   "metadata": {},
   "outputs": [
    {
     "name": "stdout",
     "output_type": "stream",
     "text": [
      "  item_condition_id  shipping\n",
      "1                 3         0\n",
      "<class 'pandas.core.frame.DataFrame'>\n",
      "Int64Index: 1000 entries, 0 to 999\n",
      "Data columns (total 2 columns):\n",
      "item_condition_id    1000 non-null category\n",
      "shipping             1000 non-null int64\n",
      "dtypes: category(1), int64(1)\n",
      "memory usage: 16.8 KB\n",
      "ser_dum0.values: [[3 0]]\n",
      "ser_dum0 type: <class 'int'>\n",
      "X_dummies.shape (1000, 6)\n",
      "X_dummies[0]   (0, 3)\t1\n",
      "X_dummy0.shape (1, 6)\n",
      "X_dummy0   (0, 3)\t1\n"
     ]
    }
   ],
   "source": [
    "X_dummies = csr_matrix(pd.get_dummies(merge[['item_condition_id', 'shipping']], sparse=True).values)\n",
    "\n",
    "ser_dum0 = merge[['item_condition_id', 'shipping']].iloc[1:2]\n",
    "print(ser_dum0)\n",
    "\n",
    "merge[['item_condition_id', 'shipping']].info()\n",
    "\n",
    "print(\"ser_dum0.values:\",ser_dum0.values)\n",
    "print(\"ser_dum0 type:\",type(ser_dum0.values[0][0]))\n",
    "\n",
    "print(\"X_dummies.shape\", X_dummies.shape)\n",
    "print(\"X_dummies[0]\", X_dummies[1])\n",
    "\n",
    "\n",
    "\n",
    "X_dummy0 = csr_matrix(pd.get_dummies(ser_dum0, sparse=True).values)\n",
    "\n",
    "print(\"X_dummy0.shape\", X_dummy0.shape)\n",
    "print(\"X_dummy0\", X_dummy0)\n",
    "\n",
    "\n",
    "\n"
   ]
  },
  {
   "cell_type": "markdown",
   "metadata": {},
   "source": [
    "Create sparse merge."
   ]
  },
  {
   "cell_type": "code",
   "execution_count": 44,
   "metadata": {
    "collapsed": true
   },
   "outputs": [],
   "source": [
    "sparse_merge = hstack((X_dummies, X_description, X_brand, X_category, X_name)).tocsr()"
   ]
  },
  {
   "cell_type": "code",
   "execution_count": 50,
   "metadata": {},
   "outputs": [
    {
     "name": "stdout",
     "output_type": "stream",
     "text": [
      "(1000, 6)\n",
      "(1000, 29162)\n",
      "(1000, 230)\n",
      "(1000, 348)\n",
      "(1000, 61)\n"
     ]
    },
    {
     "data": {
      "text/plain": [
       "(1000, 3053)"
      ]
     },
     "execution_count": 50,
     "metadata": {},
     "output_type": "execute_result"
    }
   ],
   "source": [
    "print(X_dummies.shape)\n",
    "print(X_description.shape)\n",
    "print(X_brand.shape)\n",
    "print(X_category.shape)\n",
    "print(X_name.shape)\n",
    "\n",
    "\n",
    "\n",
    "sparse_merge.shape"
   ]
  },
  {
   "cell_type": "markdown",
   "metadata": {},
   "source": [
    "Remove features with document frequency <=1."
   ]
  },
  {
   "cell_type": "code",
   "execution_count": 46,
   "metadata": {
    "collapsed": true
   },
   "outputs": [],
   "source": [
    "mask = np.array(np.clip(sparse_merge.getnnz(axis=0) - 1, 0, 1), dtype=bool)\n",
    "sparse_merge = sparse_merge[:, mask]"
   ]
  },
  {
   "cell_type": "code",
   "execution_count": 47,
   "metadata": {},
   "outputs": [
    {
     "data": {
      "text/plain": [
       "(1000, 3053)"
      ]
     },
     "execution_count": 47,
     "metadata": {},
     "output_type": "execute_result"
    }
   ],
   "source": [
    "sparse_merge.shape"
   ]
  },
  {
   "cell_type": "markdown",
   "metadata": {},
   "source": [
    "Separate train and test data from sparse merge."
   ]
  },
  {
   "cell_type": "code",
   "execution_count": null,
   "metadata": {
    "collapsed": true
   },
   "outputs": [],
   "source": [
    "X = sparse_merge[:nrow_train]\n",
    "X_test = sparse_merge[nrow_train:]"
   ]
  },
  {
   "cell_type": "code",
   "execution_count": null,
   "metadata": {
    "collapsed": true
   },
   "outputs": [],
   "source": [
    "train_X = lgb.Dataset(X, label=y)"
   ]
  },
  {
   "cell_type": "code",
   "execution_count": null,
   "metadata": {
    "collapsed": true
   },
   "outputs": [],
   "source": [
    "params = {\n",
    "        'learning_rate': 0.75,\n",
    "        'application': 'regression',\n",
    "        'max_depth': 3,\n",
    "        'num_leaves': 100,\n",
    "        'verbosity': -1,\n",
    "        'metric': 'RMSE',\n",
    "    }"
   ]
  },
  {
   "cell_type": "markdown",
   "metadata": {},
   "source": [
    "### Training\n",
    "Training a model requires a parameter list and data set. And training will take a while."
   ]
  },
  {
   "cell_type": "code",
   "execution_count": null,
   "metadata": {
    "collapsed": true
   },
   "outputs": [],
   "source": [
    "gbm = lgb.train(params, train_set=train_X, num_boost_round=3200, verbose_eval=100)"
   ]
  },
  {
   "cell_type": "markdown",
   "metadata": {},
   "source": [
    "### Prediction"
   ]
  },
  {
   "cell_type": "code",
   "execution_count": null,
   "metadata": {
    "collapsed": true
   },
   "outputs": [],
   "source": [
    "y_pred = gbm.predict(X_test, num_iteration=gbm.best_iteration)"
   ]
  },
  {
   "cell_type": "code",
   "execution_count": null,
   "metadata": {
    "collapsed": true
   },
   "outputs": [],
   "source": [
    "from sklearn.metrics import mean_squared_error\n",
    "print('The rmse of prediction is:', mean_squared_error(y_test, y_pred) ** 0.5)"
   ]
  }
 ],
 "metadata": {
  "kernelspec": {
   "display_name": "Python 3",
   "language": "python",
   "name": "python3"
  },
  "language_info": {
   "codemirror_mode": {
    "name": "ipython",
    "version": 3
   },
   "file_extension": ".py",
   "mimetype": "text/x-python",
   "name": "python",
   "nbconvert_exporter": "python",
   "pygments_lexer": "ipython3",
   "version": "3.6.3"
  }
 },
 "nbformat": 4,
 "nbformat_minor": 2
}
